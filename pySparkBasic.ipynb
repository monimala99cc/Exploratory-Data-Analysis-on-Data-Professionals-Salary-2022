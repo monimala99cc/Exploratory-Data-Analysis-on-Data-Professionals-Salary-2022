{
 "cells": [
  {
   "cell_type": "code",
   "execution_count": 1,
   "id": "2bfc761a",
   "metadata": {},
   "outputs": [],
   "source": [
    "import findspark\n",
    "findspark.init()"
   ]
  },
  {
   "cell_type": "code",
   "execution_count": 2,
   "id": "711fe772",
   "metadata": {},
   "outputs": [],
   "source": [
    "from pyspark.sql import SparkSession"
   ]
  },
  {
   "cell_type": "code",
   "execution_count": 3,
   "id": "c69740fe",
   "metadata": {},
   "outputs": [],
   "source": [
    "from pyspark.sql.functions import regexp_extract"
   ]
  },
  {
   "cell_type": "code",
   "execution_count": 25,
   "id": "4e45e0dd",
   "metadata": {},
   "outputs": [],
   "source": [
    "from pyspark.sql.functions import col, substring, regexp_replace"
   ]
  },
  {
   "cell_type": "code",
   "execution_count": 26,
   "id": "d45faeff",
   "metadata": {},
   "outputs": [],
   "source": [
    "from pyspark.sql.types import IntegerType"
   ]
  },
  {
   "cell_type": "code",
   "execution_count": 5,
   "id": "96cec30a",
   "metadata": {},
   "outputs": [],
   "source": [
    "import pyspark.sql.functions as f"
   ]
  },
  {
   "cell_type": "code",
   "execution_count": 6,
   "id": "b4317246",
   "metadata": {},
   "outputs": [],
   "source": [
    "spark=SparkSession.builder.appName('Basics').getOrCreate()"
   ]
  },
  {
   "cell_type": "markdown",
   "id": "7f92d550",
   "metadata": {},
   "source": [
    "#### Reading Dataset"
   ]
  },
  {
   "cell_type": "code",
   "execution_count": 9,
   "id": "041806af",
   "metadata": {},
   "outputs": [],
   "source": [
    "df=spark.read.csv('SalaryDataset.csv',header=True)"
   ]
  },
  {
   "cell_type": "code",
   "execution_count": 10,
   "id": "f258b9dc",
   "metadata": {},
   "outputs": [
    {
     "name": "stdout",
     "output_type": "stream",
     "text": [
      "+--------------------+--------------+-----------------+---------+-------------+\n",
      "|        Company Name|     Job Title|Salaries Reported| Location|       Salary|\n",
      "+--------------------+--------------+-----------------+---------+-------------+\n",
      "|            Mu Sigma|Data Scientist|              105|Bangalore| ₹6,48,573/yr|\n",
      "|                 IBM|Data Scientist|               95|Bangalore|₹11,91,950/yr|\n",
      "|Tata Consultancy ...|Data Scientist|               66|Bangalore| ₹8,36,874/yr|\n",
      "|    Impact Analytics|Data Scientist|               40|Bangalore| ₹6,69,578/yr|\n",
      "|           Accenture|Data Scientist|               32|Bangalore| ₹9,44,110/yr|\n",
      "|             Infosys|Data Scientist|               30|Bangalore| ₹9,08,764/yr|\n",
      "|           Capgemini|Data Scientist|               28|Bangalore| ₹9,26,124/yr|\n",
      "|Cognizant Technol...|Data Scientist|               26|Bangalore| ₹7,36,708/yr|\n",
      "|Anheuser-Busch InBev|Data Scientist|               25|Bangalore|₹16,46,721/yr|\n",
      "|             Fractal|Data Scientist|               22|Bangalore|₹13,92,960/yr|\n",
      "|              Embibe|Data Scientist|               20|Bangalore|₹14,04,773/yr|\n",
      "|              Amazon|Data Scientist|               19|Bangalore|₹15,07,343/yr|\n",
      "|              Google|Data Scientist|               19|Bangalore|₹15,58,095/yr|\n",
      "|            Flipkart|Data Scientist|               18|Bangalore|₹25,57,843/yr|\n",
      "|             HP Inc.|Data Scientist|               16|Bangalore|₹15,10,081/yr|\n",
      "|               Wipro|Data Scientist|               15|Bangalore| ₹7,32,821/yr|\n",
      "|  Ericsson-Worldwide|Data Scientist|               15|Bangalore|₹12,21,750/yr|\n",
      "|                 MiQ|Data Scientist|               15|Bangalore|₹17,39,484/yr|\n",
      "|            Deloitte|Data Scientist|               14|Bangalore|₹11,24,939/yr|\n",
      "|           Microsoft|Data Scientist|               14|Bangalore|₹16,30,396/yr|\n",
      "+--------------------+--------------+-----------------+---------+-------------+\n",
      "only showing top 20 rows\n",
      "\n"
     ]
    }
   ],
   "source": [
    "df.show()"
   ]
  },
  {
   "cell_type": "markdown",
   "id": "5ea95710",
   "metadata": {},
   "source": [
    "#### Summarizing and Cleaning Dataset"
   ]
  },
  {
   "cell_type": "code",
   "execution_count": 11,
   "id": "c1fa79fd",
   "metadata": {},
   "outputs": [
    {
     "data": {
      "text/plain": [
       "['Company Name', 'Job Title', 'Salaries Reported', 'Location', 'Salary']"
      ]
     },
     "execution_count": 11,
     "metadata": {},
     "output_type": "execute_result"
    }
   ],
   "source": [
    "df.columns"
   ]
  },
  {
   "cell_type": "code",
   "execution_count": 12,
   "id": "7fc27408",
   "metadata": {},
   "outputs": [
    {
     "name": "stdout",
     "output_type": "stream",
     "text": [
      "root\n",
      " |-- Company Name: string (nullable = true)\n",
      " |-- Job Title: string (nullable = true)\n",
      " |-- Salaries Reported: string (nullable = true)\n",
      " |-- Location: string (nullable = true)\n",
      " |-- Salary: string (nullable = true)\n",
      "\n"
     ]
    }
   ],
   "source": [
    "df.printSchema()"
   ]
  },
  {
   "cell_type": "code",
   "execution_count": 13,
   "id": "ed20f11c",
   "metadata": {},
   "outputs": [],
   "source": [
    "df=df.withColumnRenamed('Company Name','Company_Name')"
   ]
  },
  {
   "cell_type": "code",
   "execution_count": 14,
   "id": "d2702a3f",
   "metadata": {},
   "outputs": [],
   "source": [
    "df=df.withColumnRenamed('Job Title','Job_Title')"
   ]
  },
  {
   "cell_type": "code",
   "execution_count": 15,
   "id": "4e8a3a6b",
   "metadata": {},
   "outputs": [],
   "source": [
    "df=df.withColumnRenamed('Salaries Reported','Salaries_Reported')"
   ]
  },
  {
   "cell_type": "code",
   "execution_count": 16,
   "id": "edfa5c91",
   "metadata": {},
   "outputs": [],
   "source": [
    "df=df.na.drop()"
   ]
  },
  {
   "cell_type": "markdown",
   "id": "f4c613b3",
   "metadata": {},
   "source": [
    "#### Salary Column Cleanup"
   ]
  },
  {
   "cell_type": "code",
   "execution_count": 17,
   "id": "a40c9a9f",
   "metadata": {},
   "outputs": [],
   "source": [
    "df=df.withColumn(\"salary\",regexp_replace(\"salary\",\",\",\"\"))"
   ]
  },
  {
   "cell_type": "code",
   "execution_count": 18,
   "id": "f4af2c73",
   "metadata": {},
   "outputs": [],
   "source": [
    "df=df.withColumn(\"Currency\",regexp_extract(\"salary\",'(\\D+)',1))"
   ]
  },
  {
   "cell_type": "code",
   "execution_count": 19,
   "id": "b83d683d",
   "metadata": {},
   "outputs": [],
   "source": [
    "df=df.withColumn(\"Amount\",regexp_extract(\"salary\",'(\\\\D+)(\\\\w+)',2))"
   ]
  },
  {
   "cell_type": "code",
   "execution_count": 20,
   "id": "b46d315c",
   "metadata": {},
   "outputs": [],
   "source": [
    "df=df.withColumn(\"Period\",substring(df['salary'], -2, 2))"
   ]
  },
  {
   "cell_type": "code",
   "execution_count": 21,
   "id": "4829669d",
   "metadata": {},
   "outputs": [
    {
     "name": "stdout",
     "output_type": "stream",
     "text": [
      "+--------------------+--------------+-----------------+---------+-----------+--------+-------+------+\n",
      "|        Company_Name|     Job_Title|Salaries_Reported| Location|     salary|Currency| Amount|Period|\n",
      "+--------------------+--------------+-----------------+---------+-----------+--------+-------+------+\n",
      "|            Mu Sigma|Data Scientist|              105|Bangalore| ₹648573/yr|       ₹| 648573|    yr|\n",
      "|                 IBM|Data Scientist|               95|Bangalore|₹1191950/yr|       ₹|1191950|    yr|\n",
      "|Tata Consultancy ...|Data Scientist|               66|Bangalore| ₹836874/yr|       ₹| 836874|    yr|\n",
      "|    Impact Analytics|Data Scientist|               40|Bangalore| ₹669578/yr|       ₹| 669578|    yr|\n",
      "|           Accenture|Data Scientist|               32|Bangalore| ₹944110/yr|       ₹| 944110|    yr|\n",
      "|             Infosys|Data Scientist|               30|Bangalore| ₹908764/yr|       ₹| 908764|    yr|\n",
      "|           Capgemini|Data Scientist|               28|Bangalore| ₹926124/yr|       ₹| 926124|    yr|\n",
      "|Cognizant Technol...|Data Scientist|               26|Bangalore| ₹736708/yr|       ₹| 736708|    yr|\n",
      "|Anheuser-Busch InBev|Data Scientist|               25|Bangalore|₹1646721/yr|       ₹|1646721|    yr|\n",
      "|             Fractal|Data Scientist|               22|Bangalore|₹1392960/yr|       ₹|1392960|    yr|\n",
      "|              Embibe|Data Scientist|               20|Bangalore|₹1404773/yr|       ₹|1404773|    yr|\n",
      "|              Amazon|Data Scientist|               19|Bangalore|₹1507343/yr|       ₹|1507343|    yr|\n",
      "|              Google|Data Scientist|               19|Bangalore|₹1558095/yr|       ₹|1558095|    yr|\n",
      "|            Flipkart|Data Scientist|               18|Bangalore|₹2557843/yr|       ₹|2557843|    yr|\n",
      "|             HP Inc.|Data Scientist|               16|Bangalore|₹1510081/yr|       ₹|1510081|    yr|\n",
      "|               Wipro|Data Scientist|               15|Bangalore| ₹732821/yr|       ₹| 732821|    yr|\n",
      "|  Ericsson-Worldwide|Data Scientist|               15|Bangalore|₹1221750/yr|       ₹|1221750|    yr|\n",
      "|                 MiQ|Data Scientist|               15|Bangalore|₹1739484/yr|       ₹|1739484|    yr|\n",
      "|            Deloitte|Data Scientist|               14|Bangalore|₹1124939/yr|       ₹|1124939|    yr|\n",
      "|           Microsoft|Data Scientist|               14|Bangalore|₹1630396/yr|       ₹|1630396|    yr|\n",
      "+--------------------+--------------+-----------------+---------+-----------+--------+-------+------+\n",
      "only showing top 20 rows\n",
      "\n"
     ]
    }
   ],
   "source": [
    "df.show()"
   ]
  },
  {
   "cell_type": "code",
   "execution_count": 22,
   "id": "cfa4662a",
   "metadata": {},
   "outputs": [
    {
     "name": "stdout",
     "output_type": "stream",
     "text": [
      "+-------+---------------+--------------------+-----------------+---------+----------+--------+-----------------+------+\n",
      "|summary|   Company_Name|           Job_Title|Salaries_Reported| Location|    salary|Currency|           Amount|Period|\n",
      "+-------+---------------+--------------------+-----------------+---------+----------+--------+-----------------+------+\n",
      "|  count|           4339|                4339|             4339|     4339|      4339|    4339|             4339|  4339|\n",
      "|   mean|           null|                null|2.777137589306292|     null|      null|    null|768070.9638165475|  null|\n",
      "| stddev|           null|                null|5.148094762075859|     null|      null|    null|769002.4850658625|  null|\n",
      "|    min|& Other Stories|Associate Machine...|                1|Bangalore|$100488/yr|       $|              100|    hr|\n",
      "|    max|Águas Guariroba|Software Engineer...|               95|     Pune|₹999998/yr|       ₹|           999998|    yr|\n",
      "+-------+---------------+--------------------+-----------------+---------+----------+--------+-----------------+------+\n",
      "\n"
     ]
    }
   ],
   "source": [
    "df.describe().show()"
   ]
  },
  {
   "cell_type": "code",
   "execution_count": 27,
   "id": "dda74417",
   "metadata": {},
   "outputs": [],
   "source": [
    "df=df.withColumn(\"Amount\",df[\"Amount\"].cast(IntegerType()))"
   ]
  },
  {
   "cell_type": "code",
   "execution_count": 28,
   "id": "acc9b776",
   "metadata": {},
   "outputs": [],
   "source": [
    "df=df.withColumn('Salary_INR',f.when(f.col('Currency')=='$',f.col('Amount')*82).when(f.col('Currency')=='£',f.col('Amount')*102).when(f.col('Currency')=='AFN',f.col('Amount')*0.94).otherwise(f.col('Amount')))"
   ]
  },
  {
   "cell_type": "code",
   "execution_count": 29,
   "id": "5223dcbb",
   "metadata": {},
   "outputs": [],
   "source": [
    "df=df.withColumn('Salary_INR',f.when(f.col('Period')=='hr',f.col('Salary_INR')*160).otherwise(f.col('Salary_INR')))"
   ]
  },
  {
   "cell_type": "code",
   "execution_count": 30,
   "id": "4d81d650",
   "metadata": {},
   "outputs": [],
   "source": [
    "df=df.withColumn('Salary_INR',f.when(f.col('Period')=='mo',f.col('Salary_INR')*12).otherwise(f.col('Salary_INR')))"
   ]
  },
  {
   "cell_type": "code",
   "execution_count": 31,
   "id": "286c0daa",
   "metadata": {},
   "outputs": [
    {
     "name": "stdout",
     "output_type": "stream",
     "text": [
      "+--------+\n",
      "|Currency|\n",
      "+--------+\n",
      "|       ₹|\n",
      "|    AFN |\n",
      "|       $|\n",
      "|       £|\n",
      "+--------+\n",
      "\n"
     ]
    }
   ],
   "source": [
    "df.select('Currency').distinct().show()"
   ]
  },
  {
   "cell_type": "code",
   "execution_count": 37,
   "id": "b0051f76",
   "metadata": {},
   "outputs": [
    {
     "name": "stdout",
     "output_type": "stream",
     "text": [
      "+--------------------+--------------+-----------------+---------+-----------+--------+-------+------+----------+\n",
      "|        Company_Name|     Job_Title|Salaries_Reported| Location|     salary|Currency| Amount|Period|Salary_INR|\n",
      "+--------------------+--------------+-----------------+---------+-----------+--------+-------+------+----------+\n",
      "|            Mu Sigma|Data Scientist|              105|Bangalore| ₹648573/yr|       ₹| 648573|    yr|  648573.0|\n",
      "|                 IBM|Data Scientist|               95|Bangalore|₹1191950/yr|       ₹|1191950|    yr| 1191950.0|\n",
      "|Tata Consultancy ...|Data Scientist|               66|Bangalore| ₹836874/yr|       ₹| 836874|    yr|  836874.0|\n",
      "|    Impact Analytics|Data Scientist|               40|Bangalore| ₹669578/yr|       ₹| 669578|    yr|  669578.0|\n",
      "|           Accenture|Data Scientist|               32|Bangalore| ₹944110/yr|       ₹| 944110|    yr|  944110.0|\n",
      "|             Infosys|Data Scientist|               30|Bangalore| ₹908764/yr|       ₹| 908764|    yr|  908764.0|\n",
      "|           Capgemini|Data Scientist|               28|Bangalore| ₹926124/yr|       ₹| 926124|    yr|  926124.0|\n",
      "|Cognizant Technol...|Data Scientist|               26|Bangalore| ₹736708/yr|       ₹| 736708|    yr|  736708.0|\n",
      "|Anheuser-Busch InBev|Data Scientist|               25|Bangalore|₹1646721/yr|       ₹|1646721|    yr| 1646721.0|\n",
      "|             Fractal|Data Scientist|               22|Bangalore|₹1392960/yr|       ₹|1392960|    yr| 1392960.0|\n",
      "|              Embibe|Data Scientist|               20|Bangalore|₹1404773/yr|       ₹|1404773|    yr| 1404773.0|\n",
      "|              Amazon|Data Scientist|               19|Bangalore|₹1507343/yr|       ₹|1507343|    yr| 1507343.0|\n",
      "|              Google|Data Scientist|               19|Bangalore|₹1558095/yr|       ₹|1558095|    yr| 1558095.0|\n",
      "|            Flipkart|Data Scientist|               18|Bangalore|₹2557843/yr|       ₹|2557843|    yr| 2557843.0|\n",
      "|             HP Inc.|Data Scientist|               16|Bangalore|₹1510081/yr|       ₹|1510081|    yr| 1510081.0|\n",
      "|               Wipro|Data Scientist|               15|Bangalore| ₹732821/yr|       ₹| 732821|    yr|  732821.0|\n",
      "|  Ericsson-Worldwide|Data Scientist|               15|Bangalore|₹1221750/yr|       ₹|1221750|    yr| 1221750.0|\n",
      "|                 MiQ|Data Scientist|               15|Bangalore|₹1739484/yr|       ₹|1739484|    yr| 1739484.0|\n",
      "|            Deloitte|Data Scientist|               14|Bangalore|₹1124939/yr|       ₹|1124939|    yr| 1124939.0|\n",
      "|           Microsoft|Data Scientist|               14|Bangalore|₹1630396/yr|       ₹|1630396|    yr| 1630396.0|\n",
      "+--------------------+--------------+-----------------+---------+-----------+--------+-------+------+----------+\n",
      "only showing top 20 rows\n",
      "\n"
     ]
    }
   ],
   "source": [
    "df.show()"
   ]
  },
  {
   "cell_type": "code",
   "execution_count": null,
   "id": "50a5396b",
   "metadata": {},
   "outputs": [],
   "source": []
  }
 ],
 "metadata": {
  "kernelspec": {
   "display_name": "Python 3 (ipykernel)",
   "language": "python",
   "name": "python3"
  },
  "language_info": {
   "codemirror_mode": {
    "name": "ipython",
    "version": 3
   },
   "file_extension": ".py",
   "mimetype": "text/x-python",
   "name": "python",
   "nbconvert_exporter": "python",
   "pygments_lexer": "ipython3",
   "version": "3.10.9"
  }
 },
 "nbformat": 4,
 "nbformat_minor": 5
}
